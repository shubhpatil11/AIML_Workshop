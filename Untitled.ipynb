{
 "cells": [
  {
   "cell_type": "code",
   "execution_count": 2,
   "id": "fc836e1d",
   "metadata": {},
   "outputs": [
    {
     "name": "stdout",
     "output_type": "stream",
     "text": [
      "The overall score of new student is :  0    19.6\n",
      "dtype: float64\n",
      "New Student Belongs to the Cluster :  0\n"
     ]
    }
   ],
   "source": [
    "import numpy as np\n",
    "import pandas as pd\n",
    "from sklearn.cluster import KMeans\n",
    "\n",
    "np.random.seed(0)\n",
    "n_students = 100\n",
    "marks_obtained = np.random.randint(0,100,n_students)\n",
    "attendance_percentage = np.random.randint(50,100,n_students)\n",
    "assignments_score = np.random.randint(0,10,n_students)\n",
    "\n",
    "overall_score = marks_obtained*0.4 + attendance_percentage*0.4 + assignments_score*0.2\n",
    "\n",
    "data = pd.DataFrame({\n",
    "    \"Marks Obtained\" : marks_obtained,\n",
    "    \"Attendance Percentage\" : attendance_percentage,\n",
    "    \"Assignments Score\" : assignments_score,\n",
    "    \"Overall Score\" : overall_score,\n",
    "})\n",
    "\n",
    "data[\"cluster\"] = np.where(data[\"Overall Score\"]<40, 0, np.where(data[\"Overall Score\"]<75, 1, 2))\n",
    "\n",
    "new_data = pd.DataFrame({\n",
    "    \"Marks Obtained\" : [10],\n",
    "    \"Attendance Percentage\" : [35],\n",
    "    \"Assignments Score\" : [8],\n",
    "})\n",
    "\n",
    "New_Student_Overall_Score = new_data[\"Marks Obtained\"]*0.4 + new_data['Attendance Percentage']*0.4 + new_data[\"Assignments Score\"]*0.2\n",
    "\n",
    "new_student_cluster = np.where(New_Student_Overall_Score<40, 0, np.where(New_Student_Overall_Score<75, 1, 2))\n",
    "\n",
    "print(\"The overall score of new student is : \",New_Student_Overall_Score)\n",
    "print(\"New Student Belongs to the Cluster : \",new_student_cluster[0])"
   ]
  }
 ],
 "metadata": {
  "kernelspec": {
   "display_name": "Python 3 (ipykernel)",
   "language": "python",
   "name": "python3"
  },
  "language_info": {
   "codemirror_mode": {
    "name": "ipython",
    "version": 3
   },
   "file_extension": ".py",
   "mimetype": "text/x-python",
   "name": "python",
   "nbconvert_exporter": "python",
   "pygments_lexer": "ipython3",
   "version": "3.10.9"
  }
 },
 "nbformat": 4,
 "nbformat_minor": 5
}
