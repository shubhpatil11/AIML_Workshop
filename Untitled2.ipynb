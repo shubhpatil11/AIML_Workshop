{
 "cells": [
  {
   "cell_type": "markdown",
   "id": "91016134",
   "metadata": {},
   "source": [
    "# import pandas as pd\n",
    "import numpy as np\n",
    "from sklearn.linear_model import LinearRegression\n",
    "\n",
    "data = pd.read_csv('data.csv')\n",
    "\n",
    "\n",
    "X = data['gpa'].values.reshape(-1,1)\n",
    "y = data['study_hours'].values.reshape(-1,1)\n",
    "\n",
    "\n",
    "regressor = LinearRegression()\n",
    "regressor.fit(X, y)\n",
    "\n",
    "hours = float(input(\"Enter the number of hours studied: \"))\n",
    "\n",
    "\n",
    "marks = regressor.predict(np.array([[hours]]))\n",
    "\n",
    "print(\"Predicted marks: \", marks[0][0])\n"
   ]
  }
 ],
 "metadata": {
  "kernelspec": {
   "display_name": "Python 3 (ipykernel)",
   "language": "python",
   "name": "python3"
  },
  "language_info": {
   "codemirror_mode": {
    "name": "ipython",
    "version": 3
   },
   "file_extension": ".py",
   "mimetype": "text/x-python",
   "name": "python",
   "nbconvert_exporter": "python",
   "pygments_lexer": "ipython3",
   "version": "3.10.9"
  }
 },
 "nbformat": 4,
 "nbformat_minor": 5
}
